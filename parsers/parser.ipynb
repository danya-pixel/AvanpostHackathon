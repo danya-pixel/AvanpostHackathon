{
 "cells": [
  {
   "cell_type": "code",
   "execution_count": null,
   "metadata": {},
   "outputs": [],
   "source": [
    "from selenium import webdriver\n",
    "from selenium.common.exceptions import TimeoutException\n",
    "from selenium.webdriver.chrome.options import Options\n",
    "from selenium.webdriver.common.by import By\n",
    "from selenium.webdriver.common.keys import Keys\n",
    "from selenium.webdriver.support import expected_conditions as EC\n",
    "from selenium.webdriver.support.ui import WebDriverWait, Select\n",
    "from selenium.webdriver.common.action_chains import ActionChains\n",
    "\n",
    "import time"
   ]
  },
  {
   "cell_type": "code",
   "execution_count": null,
   "metadata": {},
   "outputs": [],
   "source": [
    "url = 'https://www.google.com/imghp?hl=ru'\n",
    "driver = webdriver.Chrome('chromedriver')\n",
    "driver.get(url)\n",
    "search =  WebDriverWait(driver, 5).until(\n",
    "        EC.presence_of_element_located((By.XPATH, '/html/body/div[1]/div[3]/form/div[1]/div[1]/div[1]/div/div[2]/input'))\n",
    "    ).send_keys('Садовый райдер')\n",
    "\n",
    "button =  WebDriverWait(driver, 5).until(\n",
    "        EC.presence_of_element_located((By.XPATH, '/html/body/div[1]/div[3]/form/div[1]/div[1]/div[1]/button'))\n",
    "    ).click()\n",
    "\n",
    "images_src = driver.find_elements_by_tag_name(\"img\")\n",
    "\n",
    "\n"
   ]
  },
  {
   "cell_type": "code",
   "execution_count": null,
   "metadata": {},
   "outputs": [],
   "source": [
    "from YandexParser.ImageParser import YandexImage\n",
    "\n",
    "parser = YandexImage()\n",
    "\n",
    "for item in parser.search(1, 'Балалайка'):\n",
    "    print(item.title)\n",
    "    print(item.url)\n",
    "    print(item.preview.url)\n",
    "    print(\"(\", item.size, \")\", sep='')"
   ]
  },
  {
   "cell_type": "code",
   "execution_count": null,
   "metadata": {},
   "outputs": [],
   "source": [
    "def get_img_urls(word):    \n",
    "    urls = []\n",
    "    for i in range(33):\n",
    "        for item in parser.search(i, word):\n",
    "            urls.append(item.url)\n",
    "        time.sleep(10)\n",
    "    return urls"
   ]
  },
  {
   "cell_type": "code",
   "execution_count": null,
   "metadata": {},
   "outputs": [],
   "source": [
    "from YandexParser.ImageParser import YandexImage\n",
    "\n",
    "parser = YandexImage()\n",
    "a = get_img_urls('балалайка')\n",
    "a"
   ]
  },
  {
   "cell_type": "code",
   "execution_count": null,
   "metadata": {},
   "outputs": [],
   "source": [
    "import json\n",
    "with open('data.json', 'w', encoding='utf-8') as fh: #открываем файл на запись\n",
    "    fh.write(json.dumps(a, ensure_ascii=False)) #преобразовываем словарь data в unicode-строку и записываем в файл\n"
   ]
  },
  {
   "cell_type": "code",
   "execution_count": null,
   "metadata": {},
   "outputs": [],
   "source": [
    "a"
   ]
  },
  {
   "cell_type": "code",
   "execution_count": null,
   "metadata": {},
   "outputs": [],
   "source": [
    "from YandexParser.ImageParser import YandexImage\n",
    "\n",
    "parser = YandexImage()\n",
    "\n",
    "\n",
    "for item in parser.search(2, 'Балалайка'):\n",
    "    print(item.title)\n",
    "    print(item.url)\n",
    "    print(item.preview.url)\n",
    "    print(\"(\", item.size, \")\", sep='')"
   ]
  },
  {
   "cell_type": "code",
   "execution_count": 1,
   "metadata": {},
   "outputs": [],
   "source": [
    "from icrawler.builtin import GoogleImageCrawler\n"
   ]
  },
  {
   "cell_type": "code",
   "execution_count": 4,
   "metadata": {},
   "outputs": [
    {
     "name": "stderr",
     "output_type": "stream",
     "text": [
      "2022-12-04 01:33:30,413 - INFO - icrawler.crawler - start crawling...\n",
      "2022-12-04 01:33:30,415 - INFO - icrawler.crawler - starting 1 feeder threads...\n",
      "2022-12-04 01:33:30,440 - INFO - icrawler.crawler - starting 1 parser threads...\n",
      "2022-12-04 01:33:30,443 - INFO - icrawler.crawler - starting 2 downloader threads...\n",
      "2022-12-04 01:33:31,854 - INFO - parser - parsing result page https://www.google.com/search?q=%D0%9B%D1%8B%D0%B6%D0%B8&ijn=0&start=0&tbs=&tbm=isch\n",
      "2022-12-04 01:33:32,840 - INFO - downloader - image #1\thttps://contents.mediadecathlon.com/p1607604/k$57362867717e15c05f2f0f2fdf56a704/media.jpg\n",
      "2022-12-04 01:33:33,345 - INFO - downloader - image #2\thttps://img.championat.com/c/1200x900/news/big/r/z/kak-vstat-na-gornye-lyzhi_16438950041506462725.jpg\n",
      "2022-12-04 01:33:33,459 - INFO - downloader - image #3\thttps://sport-marafon.ru/upload/iblock/ef3/1377-001.jpg\n",
      "2022-12-04 01:33:33,974 - INFO - downloader - image #4\thttps://skiline.ru/catalog/fischer/N03319.jpg\n",
      "2022-12-04 01:33:34,101 - INFO - downloader - image #5\thttps://ss.sport-express.ru/userfiles/materials/174/1745789/volga.jpg\n",
      "2022-12-04 01:33:35,165 - INFO - downloader - image #6\thttps://img.five-sport.ru/files/1/6833/16677553/original/%D0%9A%D0%B0%D1%82%D0%B0%D0%BD%D0%B8%D0%B5_%D0%BD%D0%B0_%D0%B1%D0%B5%D0%B3%D0%BE%D0%B2%D1%8B%D1%85_%D0%BB%D1%8B%D0%B6%D0%B0%D1%85_a38af37f2b1103f02df571d23dbbb746.jpg\n",
      "2022-12-04 01:33:35,685 - INFO - downloader - image #7\thttps://nsk.richfamily.ru/upload/resize_cache/iblock/fad/450_600_2/177829.jpg\n",
      "2022-12-04 01:33:35,990 - INFO - downloader - image #8\thttps://www.velo-port.ru/upload/iblock/422/4229dd4efa983812ff74f8bff3225dae.png\n",
      "2022-12-04 01:33:37,445 - INFO - downloader - image #9\thttps://img.setka.io/clients/ERswQaPUWaeWgjb6hekcAkZGgz6Intd3/post_images/oblozhka-119.png\n",
      "2022-12-04 01:33:37,869 - INFO - downloader - image #10\thttps://s5o.ru/storage/simple/ru/edt/2b/c8/53/71/rue737e8e7f0f.jpg\n",
      "2022-12-04 01:33:38,153 - INFO - downloader - image #11\thttps://k2tour.ru/upload/medialibrary/1ea/1ea65b096187646cfa7711fee0e29cf1.png\n",
      "2022-12-04 01:33:39,119 - INFO - downloader - image #12\thttps://www.sportresource.ru/wp-content/uploads/2020/09/us-N04913-2.jpg\n",
      "2022-12-04 01:33:39,649 - INFO - downloader - image #13\thttps://img.championat.com/s/570x380/news/big/g/k/norvezhskie-lyzhniki-rasstroeny_16700673101091259888.jpg\n",
      "2022-12-04 01:33:40,545 - INFO - downloader - image #14\thttps://ovelon-market.ru/files/uploads/BLOG/2021/12-dekabr/Kak-vibrat-begovie-liji-06-12-2021/konk-hod.jpg\n",
      "2022-12-04 01:33:41,012 - INFO - downloader - image #15\thttps://head.ru/upload/shop_13/3/8/5/group_3858/group_3858.jpg\n",
      "2022-12-04 01:33:41,096 - INFO - downloader - image #16\thttps://s0.rbk.ru/v6_top_pics/media/img/7/87/756377588479877.jpg\n",
      "2022-12-04 01:33:41,601 - INFO - downloader - image #17\thttps://size-up.ru/wp-content/uploads/2016/11/5822f46432e3-1024x683.jpg\n",
      "2022-12-04 01:33:42,162 - INFO - downloader - image #18\thttps://www.kant.ru/upload/iblock/fae/fae709fe5daa9a973c605e12cf555df5.jpg\n",
      "2022-12-04 01:33:42,721 - INFO - downloader - image #19\thttps://rider-skill.ru/wp-content/uploads/2020/02/cc-ski-1.jpg\n",
      "2022-12-04 01:33:43,189 - INFO - downloader - image #20\thttps://marathonec.ru/wp-content/uploads/2021/01/polza-ezdy-na-lyzhah.jpg\n",
      "2022-12-04 01:33:44,500 - INFO - downloader - image #21\thttps://prokatstyle.ru/wp-content/uploads/2020/05/%D0%BA%D0%BE%D0%BD%D1%8C%D0%BA%D0%BE%D0%B2%D1%8B%D0%B9-%D1%85%D0%BE%D0%B4-min-min.jpg\n",
      "2022-12-04 01:33:45,689 - INFO - downloader - image #22\thttps://img.setka.io/clients/ERswQaPUWaeWgjb6hekcAkZGgz6Intd3/post_images/kum-2022101018535819.jpg\n",
      "2022-12-04 01:33:45,722 - INFO - downloader - image #23\thttps://www.ski.ru/kohana/upload/ckfinder_images/u111030/images/111030_1544977110.jpg\n",
      "2022-12-04 01:33:45,818 - INFO - downloader - image #24\thttps://ss.sport-express.ru/userfiles/materials/173/1735202/volga.jpg\n",
      "2022-12-04 01:33:46,201 - INFO - downloader - image #25\thttps://basket-01.wb.ru/vol106/part10640/10640008/images/big/1.jpg\n",
      "2022-12-04 01:33:46,540 - INFO - downloader - image #26\thttps://www.ski.ru/kohana/upload/ckfinder_images/u239/images/239_1544157362.jpg\n",
      "2022-12-04 01:33:46,548 - INFO - downloader - image #27\thttps://b1.m24.ru/c/1469324.jpg\n",
      "2022-12-04 01:33:47,231 - INFO - downloader - image #28\thttps://static.tildacdn.com/tild6336-3461-4833-b136-626438643564/photo533680825945513.jpg\n",
      "2022-12-04 01:33:47,756 - INFO - downloader - image #29\thttps://skipedia.ru/wp-content/uploads/2018/02/lyzhi3-1.jpg\n",
      "2022-12-04 01:33:47,762 - ERROR - downloader - Exception caught when downloading file http://%D0%B2%D0%B0%D1%88%D0%B8%D0%BB%D1%8B%D0%B6%D0%B8.%D1%80%D1%84/images/podbor/ice_skating_on_mountain-1024x576.jpg, error: HTTPConnectionPool(host='%d0%b2%d0%b0%d1%88%d0%b8%d0%bb%d1%8b%d0%b6%d0%b8.%d1%80%d1%84', port=80): Max retries exceeded with url: /images/podbor/ice_skating_on_mountain-1024x576.jpg (Caused by NewConnectionError('<urllib3.connection.HTTPConnection object at 0x0000020C1263E8F0>: Failed to establish a new connection: [Errno 11001] getaddrinfo failed')), remaining retry times: 2\n",
      "2022-12-04 01:33:47,766 - ERROR - downloader - Exception caught when downloading file http://%D0%B2%D0%B0%D1%88%D0%B8%D0%BB%D1%8B%D0%B6%D0%B8.%D1%80%D1%84/images/podbor/ice_skating_on_mountain-1024x576.jpg, error: HTTPConnectionPool(host='%d0%b2%d0%b0%d1%88%d0%b8%d0%bb%d1%8b%d0%b6%d0%b8.%d1%80%d1%84', port=80): Max retries exceeded with url: /images/podbor/ice_skating_on_mountain-1024x576.jpg (Caused by NewConnectionError('<urllib3.connection.HTTPConnection object at 0x0000020C1263D060>: Failed to establish a new connection: [Errno 11001] getaddrinfo failed')), remaining retry times: 1\n",
      "2022-12-04 01:33:47,769 - ERROR - downloader - Exception caught when downloading file http://%D0%B2%D0%B0%D1%88%D0%B8%D0%BB%D1%8B%D0%B6%D0%B8.%D1%80%D1%84/images/podbor/ice_skating_on_mountain-1024x576.jpg, error: HTTPConnectionPool(host='%d0%b2%d0%b0%d1%88%d0%b8%d0%bb%d1%8b%d0%b6%d0%b8.%d1%80%d1%84', port=80): Max retries exceeded with url: /images/podbor/ice_skating_on_mountain-1024x576.jpg (Caused by NewConnectionError('<urllib3.connection.HTTPConnection object at 0x0000020C1263CE80>: Failed to establish a new connection: [Errno 11001] getaddrinfo failed')), remaining retry times: 0\n",
      "2022-12-04 01:33:48,597 - INFO - downloader - image #30\thttps://cdn5.vedomosti.ru/image/2021/38/vt3y5/original-1582.jpg\n",
      "2022-12-04 01:33:49,185 - INFO - downloader - image #31\thttps://training365.ru/wp-content/uploads/2020/10/%D0%BA%D0%BE%D0%BD%D1%8C%D0%BA%D0%BE%D0%B2%D1%8B%D0%B5-%D0%BB%D1%8B%D0%B6%D0%B8-atomic-redster-s9-gen-s.jpg\n",
      "2022-12-04 01:33:50,306 - INFO - downloader - image #32\thttps://upload.wikimedia.org/wikipedia/commons/8/89/Miller_Bode_2008_002.jpg\n",
      "2022-12-04 01:33:50,833 - INFO - downloader - image #33\thttps://s0.rbk.ru/v6_top_pics/media/img/1/71/756379146266711.jpg\n",
      "2022-12-04 01:33:51,410 - INFO - downloader - image #34\thttps://sport-marafon.ru/upload/iblock/b74/2176-001.jpg\n",
      "2022-12-04 01:33:51,545 - INFO - downloader - image #35\thttps://i.ytimg.com/vi/4FNnWcxC-Nk/maxresdefault.jpg\n",
      "2022-12-04 01:33:52,295 - INFO - downloader - image #36\thttps://k2tour.ru/upload/medialibrary/043/0435b75d8f55dec0e156dcb5630a89fe.jpg\n",
      "2022-12-04 01:33:52,784 - INFO - downloader - image #37\thttps://assets.gq.ru/photos/60097f5a0400980d57587095/3:4/w_3750,h_5000,c_limit/GettyImages-903671366.jpg\n",
      "2022-12-04 01:33:53,637 - INFO - downloader - image #38\thttp://skistop.ru/images/cms/content/2014-all-mountain-98.jpg\n",
      "2022-12-04 01:33:54,619 - INFO - downloader - image #39\thttps://sport-life.biz/upload/iblock/5f5/rxl4s30r8cklprgxq88k2c02udpbr05q.jpg\n",
      "2022-12-04 01:33:55,213 - INFO - downloader - image #40\thttps://blog.decathlon.ru/assets/image-cache/img/Sovety/kak-pravilno-odet-rebenka-dlya-kataniya-na-lyzhah/01.46034a5a.jpg\n",
      "2022-12-04 01:33:55,794 - INFO - downloader - image #41\thttps://veloman40.ru/wp-content/uploads/2018/12/begovye-lyzhi-sable-snowway-170-sm.jpg\n",
      "2022-12-04 01:33:56,664 - INFO - downloader - image #42\thttps://img.championat.com/c/1200x900/news/big/d/m/chem-zhe-russkie-mazhut-lyzhi-shvedskij-zhurnalist-usomnilsya-v-chestnosti-pobed-sbornoj-r_16449073061202980960.jpg\n",
      "2022-12-04 01:33:57,199 - ERROR - downloader - Response status code 404, file https://upload.wikimedia.org/wikipedia/commons/thumb/1/1f/Skis_by_Ivan_Isaev_from_Russian_Ski_Magazine.jpg\n",
      "2022-12-04 01:33:58,062 - INFO - downloader - image #43\thttps://trofey.ru/upload/medialibrary/e9f/e9ff000c148986452d5fee50ba9a9f73.jpg\n",
      "2022-12-04 01:33:58,133 - INFO - downloader - image #44\thttps://img.setka.io/clients/ERswQaPUWaeWgjb6hekcAkZGgz6Intd3/post_images/vs-2022101912361061.jpg\n",
      "2022-12-04 01:33:58,421 - ERROR - downloader - Response status code 403, file https://sun9-51.userapi.com/impg/matRWcm_Gg5Tj8oXi3xbeFUQIFaHn_scItOVsw/TIppY1-u01Y.jpg\n",
      "2022-12-04 01:33:58,730 - INFO - downloader - image #45\thttps://velo56.ru/photos/goods/20220524154531-f682577b-d16e-11e9-8d04-0011955c0644.jpg\n",
      "2022-12-04 01:33:58,732 - INFO - downloader - image #46\thttps://s09.stc.yc.kpcdn.net/share/i/12/12232598/de-1200x900.jpg\n",
      "2022-12-04 01:33:59,152 - INFO - downloader - image #47\thttps://sitv.ru/upload/information_system_15/1/5/1/item_151747/item_151747.jpg\n",
      "2022-12-04 01:33:59,209 - INFO - downloader - image #48\thttps://sport-timepro.ru/uploadedFiles/eshopimages/big/onski_sport_timepro.jpg\n",
      "2022-12-04 01:33:59,724 - INFO - downloader - image #49\thttp://alpindustria.ru/UserFiles/Image/Karving_2.jpg\n",
      "2022-12-04 01:33:59,984 - INFO - downloader - image #50\thttps://sochiskiline.ru/wp-content/uploads/2020/10/kakie-lygi-luchshe-pokupat.jpg\n",
      "2022-12-04 01:34:00,187 - INFO - downloader - image #51\thttps://prokatstyle.ru/wp-content/uploads/2021/02/%D1%81%D1%82%D1%80%D0%BE%D0%B5%D0%BD%D0%B8%D0%B5-%D0%BB%D1%8B%D0%B6-1024x538.jpg\n",
      "2022-12-04 01:34:00,528 - INFO - downloader - image #52\thttps://i.ytimg.com/vi/SJ_CANEgEzE/maxresdefault.jpg\n",
      "2022-12-04 01:34:00,869 - INFO - downloader - image #53\thttps://sport-marafon.ru/upload/iblock/d74/1433-001.jpg\n",
      "2022-12-04 01:34:01,258 - INFO - downloader - image #54\thttps://skkaravan.ru/thumb/2/kV89DkLILkbrg7bYZEOcIQ/550r550/d/lyzhi.jpg\n",
      "2022-12-04 01:34:01,476 - INFO - downloader - image #55\thttps://www.kant.ru/upload/iblock/f6e/f6ed1ebb6f01e6e3750c43e771167592.jpg\n",
      "2022-12-04 01:34:01,782 - INFO - downloader - image #56\thttps://trial-sport.ru/images/catalog/500/yeti_1482252.jpg\n",
      "2022-12-04 01:34:02,085 - INFO - downloader - image #57\thttps://static.galamart.ru/images_1000/4XHCRAD-1.jpg\n",
      "2022-12-04 01:34:02,309 - INFO - downloader - image #58\thttps://skigu.ru/upload/iblock/5b7/qk5rmb80bc2x5gbc8zxxsokfrq0h2kll.jpg\n",
      "2022-12-04 01:34:02,493 - INFO - downloader - image #59\thttps://cdn1.ozone.ru/s3/multimedia-z/c1000/6034958555.jpg\n",
      "2022-12-04 01:34:02,958 - INFO - downloader - image #60\thttps://skitent.ru/d/beskid.jpg\n",
      "2022-12-04 01:34:03,600 - INFO - downloader - image #61\thttps://s3.predelanet.ru/storage/uploads/public/61c/b15/ee1/61cb15ee1aab7915734464.jpg\n",
      "2022-12-04 01:34:03,652 - ERROR - downloader - Exception caught when downloading file https://1.bp.blogspot.com/-uNZ9k0ERBBQ/XkU_zUgauBI/AAAAAAACK30/kt6qZ7bppW0MfNT2VwSxEQTwx1YrvtZxwCLcBGAsYHQ/s1600/27797823_2021970114510636_4559301077682764591_o.jpg, error: HTTPSConnectionPool(host='1.bp.blogspot.com', port=443): Max retries exceeded with url: /-uNZ9k0ERBBQ/XkU_zUgauBI/AAAAAAACK30/kt6qZ7bppW0MfNT2VwSxEQTwx1YrvtZxwCLcBGAsYHQ/s1600/27797823_2021970114510636_4559301077682764591_o.jpg (Caused by SSLError(SSLCertVerificationError(1, '[SSL: CERTIFICATE_VERIFY_FAILED] certificate verify failed: self signed certificate (_ssl.c:997)'))), remaining retry times: 2\n",
      "2022-12-04 01:34:03,718 - ERROR - downloader - Exception caught when downloading file https://1.bp.blogspot.com/-uNZ9k0ERBBQ/XkU_zUgauBI/AAAAAAACK30/kt6qZ7bppW0MfNT2VwSxEQTwx1YrvtZxwCLcBGAsYHQ/s1600/27797823_2021970114510636_4559301077682764591_o.jpg, error: HTTPSConnectionPool(host='1.bp.blogspot.com', port=443): Max retries exceeded with url: /-uNZ9k0ERBBQ/XkU_zUgauBI/AAAAAAACK30/kt6qZ7bppW0MfNT2VwSxEQTwx1YrvtZxwCLcBGAsYHQ/s1600/27797823_2021970114510636_4559301077682764591_o.jpg (Caused by SSLError(SSLCertVerificationError(1, '[SSL: CERTIFICATE_VERIFY_FAILED] certificate verify failed: self signed certificate (_ssl.c:997)'))), remaining retry times: 1\n",
      "2022-12-04 01:34:03,783 - ERROR - downloader - Exception caught when downloading file https://1.bp.blogspot.com/-uNZ9k0ERBBQ/XkU_zUgauBI/AAAAAAACK30/kt6qZ7bppW0MfNT2VwSxEQTwx1YrvtZxwCLcBGAsYHQ/s1600/27797823_2021970114510636_4559301077682764591_o.jpg, error: HTTPSConnectionPool(host='1.bp.blogspot.com', port=443): Max retries exceeded with url: /-uNZ9k0ERBBQ/XkU_zUgauBI/AAAAAAACK30/kt6qZ7bppW0MfNT2VwSxEQTwx1YrvtZxwCLcBGAsYHQ/s1600/27797823_2021970114510636_4559301077682764591_o.jpg (Caused by SSLError(SSLCertVerificationError(1, '[SSL: CERTIFICATE_VERIFY_FAILED] certificate verify failed: self signed certificate (_ssl.c:997)'))), remaining retry times: 0\n",
      "2022-12-04 01:34:04,222 - INFO - downloader - image #62\thttps://nsk.richfamily.ru/upload/resize_cache/iblock/799/246_328_2/162861.jpg\n",
      "2022-12-04 01:34:04,686 - INFO - downloader - image #63\thttps://www.ski.ru/kohana/upload/ckfinder_images/u111030/images/blizzard-bonafide-skis-2019-166.jpg\n",
      "2022-12-04 01:34:05,326 - INFO - downloader - image #64\thttps://legkov-equip.ru/image/cache/data/ski/N11017-FISCHER-CARBON-SK-H-PLUS-X-STIFF-HOLE-IFP-720x720.jpg\n",
      "2022-12-04 01:34:05,617 - INFO - downloader - image #65\thttps://s4.stc.all.kpcdn.net/expert/wp-content/uploads/2022/01/gggll.jpg\n",
      "2022-12-04 01:34:07,205 - INFO - downloader - image #66\thttps://cdn.lifehacker.ru/wp-content/uploads/2016/12/Vsyo-chto-nuzhno-znat-o-gornyx-lyzhax-prezhde-chem-idti-v-magazin-ili-punkt-prokata_1481450678.jpg\n",
      "2022-12-04 01:34:07,729 - INFO - downloader - image #67\thttps://ski777.ru/files/catalog/gr/ELAN/fe7d1ef4a255a978c59d5aab7bebb61e.jpg\n",
      "2022-12-04 01:34:08,268 - ERROR - downloader - Response status code 404, file https://usercontent.one/wp/www.chamonixporusski.com/wp-content/uploads/2016/10/ski-vs-snowboard-e1572193019899.jpg\n",
      "2022-12-04 01:34:08,406 - INFO - downloader - image #68\thttps://cdn.sptmr.ru/upload/content/cmsgate/ru_sm/smprod/setkaio-upload/actual/clothes-for-cross-country-mini.png\n",
      "2022-12-04 01:34:08,706 - INFO - downloader - image #69\thttps://head.ru/upload/shop_13/4/5/8/group_4589/group_4589.jpg\n",
      "2022-12-04 01:34:08,862 - INFO - downloader - image #70\thttps://cdnn21.img.ria.ru/images/07e6/02/04/1771132804_0:0:3072:2048_600x0_80_0_0_9cc9559259b875635975c8d790d6d557.jpg\n",
      "2022-12-04 01:34:09,217 - INFO - downloader - image #71\thttps://voroninskie-gorki.ru/upload/iblock/bf1/bf1665ade2bee3d719d88a006817553e.jpg\n",
      "2022-12-04 01:34:09,313 - INFO - downloader - image #72\thttps://cdn3.static1-sima-land.com/items/6285682/0/400.jpg\n",
      "2022-12-04 01:34:09,745 - INFO - parser - parsing result page https://www.google.com/search?q=%D0%9B%D1%8B%D0%B6%D0%B8&ijn=1&start=100&tbs=&tbm=isch\n",
      "2022-12-04 01:34:09,854 - INFO - downloader - image #73\thttps://legkov-equip.ru/image/cache/data/ski/ATOMIC-REDSTER-C9-CARBON---UNI-720x720.jpg\n",
      "2022-12-04 01:34:10,099 - INFO - downloader - image #74\thttps://sport.hse.ru/pubs/share/direct/533068131.jpg\n",
      "2022-12-04 01:34:10,522 - INFO - downloader - image #75\thttps://www.manaraga.ru/Uploads/photoGalleryes/223507/240355/9931958.jpg\n",
      "2022-12-04 01:34:10,547 - INFO - downloader - image #76\thttps://riderschoice.ru/image/cache/catalog/gornye-lygi-folder/7/458640299-kupit-gornye-lygi-head-supershape-i-rally-mfpr-krepleniya-prd-14-2018-1200x1200.jpg\n",
      "2022-12-04 01:34:11,107 - INFO - downloader - image #77\thttps://cdn.lifehacker.ru/wp-content/uploads/2016/12/ride1_1544510077-630x315.jpg\n",
      "2022-12-04 01:34:11,504 - INFO - downloader - image #78\thttps://www.atlant-sport.ru/uploads/main_product_144731562229755800.jpg\n",
      "2022-12-04 01:34:12,388 - INFO - downloader - image #79\thttps://size-up.ru/wp-content/uploads/2016/11/89462.jpg\n",
      "2022-12-04 01:34:12,534 - INFO - parser - parsing result page https://www.google.com/search?q=%D0%9B%D1%8B%D0%B6%D0%B8&ijn=2&start=200&tbs=&tbm=isch\n",
      "2022-12-04 01:34:12,709 - INFO - downloader - image #80\thttps://www.kant.ru/upload/iblock/c00/c0060bb517b7d2f4e61a17d429d83b27.jpg\n",
      "2022-12-04 01:34:12,710 - ERROR - downloader - Response status code 403, file https://sun9-11.userapi.com/impg/sRT3PSwQX25iCpmwWTc6jNDYhGxgjIfbYGsGAg/SxWCbV-54kI.jpg\n",
      "2022-12-04 01:34:13,337 - INFO - downloader - image #81\thttps://ski-guru.ru/wa-data/public/shop/products/73/62/6273/images/23743/23743.970.jpg\n",
      "2022-12-04 01:34:13,811 - INFO - downloader - image #82\thttps://b1.vpoxod.ru/route/ed/4a/243754_350x280.jpg\n",
      "2022-12-04 01:34:14,377 - INFO - downloader - image #83\thttps://sportkult43.ru/wp-content/uploads/2020/11/pexels-tiffany-bui-2405062-768x1024.jpg\n",
      "2022-12-04 01:34:14,701 - INFO - parser - parsing result page https://www.google.com/search?q=%D0%9B%D1%8B%D0%B6%D0%B8&ijn=3&start=300&tbs=&tbm=isch\n",
      "2022-12-04 01:34:14,752 - INFO - feeder - thread feeder-001 exit\n",
      "2022-12-04 01:34:15,713 - INFO - parser - parsing result page https://www.google.com/search?q=%D0%9B%D1%8B%D0%B6%D0%B8&ijn=4&start=400&tbs=&tbm=isch\n",
      "2022-12-04 01:34:16,703 - INFO - parser - parsing result page https://www.google.com/search?q=%D0%9B%D1%8B%D0%B6%D0%B8&ijn=5&start=500&tbs=&tbm=isch\n",
      "2022-12-04 01:34:17,772 - INFO - parser - parsing result page https://www.google.com/search?q=%D0%9B%D1%8B%D0%B6%D0%B8&ijn=6&start=600&tbs=&tbm=isch\n",
      "2022-12-04 01:34:18,787 - INFO - parser - parsing result page https://www.google.com/search?q=%D0%9B%D1%8B%D0%B6%D0%B8&ijn=7&start=700&tbs=&tbm=isch\n",
      "2022-12-04 01:34:18,816 - INFO - downloader - downloader-001 is waiting for new download tasks\n",
      "2022-12-04 01:34:19,389 - INFO - downloader - downloader-002 is waiting for new download tasks\n",
      "2022-12-04 01:34:20,032 - INFO - parser - parsing result page https://www.google.com/search?q=%D0%9B%D1%8B%D0%B6%D0%B8&ijn=8&start=800&tbs=&tbm=isch\n",
      "2022-12-04 01:34:21,131 - INFO - parser - parsing result page https://www.google.com/search?q=%D0%9B%D1%8B%D0%B6%D0%B8&ijn=9&start=900&tbs=&tbm=isch\n",
      "2022-12-04 01:34:23,201 - INFO - parser - no more page urls for thread parser-001 to parse\n",
      "2022-12-04 01:34:23,202 - INFO - parser - thread parser-001 exit\n",
      "2022-12-04 01:34:23,822 - INFO - downloader - downloader-001 is waiting for new download tasks\n",
      "2022-12-04 01:34:24,396 - INFO - downloader - no more download task for thread downloader-002\n",
      "2022-12-04 01:34:24,397 - INFO - downloader - thread downloader-002 exit\n",
      "2022-12-04 01:34:28,829 - INFO - downloader - no more download task for thread downloader-001\n",
      "2022-12-04 01:34:28,830 - INFO - downloader - thread downloader-001 exit\n",
      "2022-12-04 01:34:28,906 - INFO - icrawler.crawler - Crawling task done!\n"
     ]
    }
   ],
   "source": [
    "google_crawler = GoogleImageCrawler(\n",
    "    feeder_threads=1,\n",
    "    parser_threads=1,\n",
    "    downloader_threads=2,\n",
    "    storage = {'root_dir' : 'D:\\PyProjects\\AvanpostHackathon\\photos'})\n",
    "\n",
    "google_crawler.crawl(keyword='Лыжи', max_num=1000)"
   ]
  },
  {
   "cell_type": "code",
   "execution_count": null,
   "metadata": {},
   "outputs": [],
   "source": [
    "google_crawler.crawl('Балалайка', 10)"
   ]
  },
  {
   "cell_type": "code",
   "execution_count": null,
   "metadata": {},
   "outputs": [],
   "source": []
  }
 ],
 "metadata": {
  "kernelspec": {
   "display_name": "Python 3.10.4 ('.venv': venv)",
   "language": "python",
   "name": "python3"
  },
  "language_info": {
   "codemirror_mode": {
    "name": "ipython",
    "version": 3
   },
   "file_extension": ".py",
   "mimetype": "text/x-python",
   "name": "python",
   "nbconvert_exporter": "python",
   "pygments_lexer": "ipython3",
   "version": "3.10.4"
  },
  "orig_nbformat": 4,
  "vscode": {
   "interpreter": {
    "hash": "762ed60fb9493e55a30d610c875c4bfdd61094bef326988ff90a56ac4059b5ea"
   }
  }
 },
 "nbformat": 4,
 "nbformat_minor": 2
}
