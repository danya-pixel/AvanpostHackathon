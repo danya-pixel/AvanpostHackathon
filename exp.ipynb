{
 "cells": [
  {
   "cell_type": "code",
   "execution_count": 2,
   "metadata": {},
   "outputs": [
    {
     "name": "stderr",
     "output_type": "stream",
     "text": [
      "/home/vlad/GarsegVenv/lib/python3.8/site-packages/tqdm/auto.py:22: TqdmWarning: IProgress not found. Please update jupyter and ipywidgets. See https://ipywidgets.readthedocs.io/en/stable/user_install.html\n",
      "  from .autonotebook import tqdm as notebook_tqdm\n"
     ]
    }
   ],
   "source": [
    "import torch\n",
    "import torchvision\n",
    "import torch.nn as nn\n",
    "import numpy as np\n",
    "import matplotlib.pyplot as plt\n",
    "import os\n",
    "from dataset_working import ImageNetDataset\n",
    "from sklearn.model_selection import train_test_split\n",
    "import torchvision.transforms as transforms\n",
    "import PIL\n",
    "import os\n",
    "from pathlib import Path\n",
    "from typing import Callable, List, Tuple, Dict\n",
    "from torchvision.models.feature_extraction import get_graph_node_names\n",
    "from torchvision.models.feature_extraction import create_feature_extractor\n",
    "import torch\n",
    "\n",
    "import wandb\n",
    "from pytorch_metric_learning import distances, losses, miners, reducers\n",
    "import pandas as pd\n",
    "\n",
    "\n",
    "import matplotlib.pyplot as plt\n",
    "\n",
    "from torch import nn\n",
    "import torch.optim as optim\n",
    "from torchvision.models import mobilenet_v3_small, MobileNet_V3_Small_Weights\n",
    "from turtle import color\n",
    "import numpy as np\n",
    "import tqdm as tqdm\n",
    "import copy\n",
    "from sklearn.metrics import f1_score\n",
    "import shutil\n",
    "from inspect import stack\n",
    "from sklearn.preprocessing import label_binarize\n",
    "from sklearn.metrics import roc_curve, auc\n",
    "from itertools import cycle\n",
    "\n",
    "from torch.utils.data import Dataset, DataLoader\n",
    "import PIL\n",
    "import torchvision.transforms as transforms\n",
    "from torchvision.models import resnet50, ResNet50_Weights\n",
    "from sklearn.model_selection import train_test_split"
   ]
  },
  {
   "cell_type": "code",
   "execution_count": 3,
   "metadata": {},
   "outputs": [],
   "source": [
    "np.random.seed(42)\n",
    "torch.seed()\n",
    "\n",
    "# device = torch.device(\"cuda\" if torch.cuda.is_available() else \"cpu\")\n",
    "# device\n",
    "device = torch.device(\"cuda:1\") if torch.cuda.is_available() else torch.device(\"cpu\")\n",
    "torch.cuda.set_device(1)"
   ]
  },
  {
   "cell_type": "code",
   "execution_count": 4,
   "metadata": {},
   "outputs": [
    {
     "name": "stderr",
     "output_type": "stream",
     "text": [
      "/tmp/ipykernel_3734153/2795392040.py:11: DeprecationWarning: BICUBIC is deprecated and will be removed in Pillow 10 (2023-07-01). Use Resampling.BICUBIC instead.\n",
      "  transforms.Resize(256, PIL.Image.BICUBIC),\n",
      "/home/vlad/GarsegVenv/lib/python3.8/site-packages/torchvision/transforms/transforms.py:332: UserWarning: Argument 'interpolation' of type int is deprecated since 0.13 and will be removed in 0.15. Please use InterpolationMode enum.\n",
      "  warnings.warn(\n"
     ]
    }
   ],
   "source": [
    "data_dir = 'dataset'\n",
    "data_list = 'dataset_list.csv'\n",
    "classes = {'trucks':0, 'minibus':1, 'ski':2, 'dump_trucks':3, 'bicycles':4, 'snowboard':5, 'tractor':6, 'trains':7, 'gazon':8, 'horses':9}\n",
    "classes_inv = {v: k for k, v in classes.items()}\n",
    "\n",
    "\n",
    "normalize = transforms.Normalize(\n",
    "    mean=[0.485, 0.456, 0.406], std=[0.229, 0.224, 0.225]\n",
    ")\n",
    "input_transform = transforms.Compose([\n",
    "    transforms.Resize(256, PIL.Image.BICUBIC),\n",
    "    transforms.CenterCrop(224),\n",
    "    transforms.ToTensor(),\n",
    "    normalize,\n",
    "])\n",
    "\n",
    "\n",
    "dataset_list = pd.read_csv(data_list)\n",
    "train_data, val_test_data = train_test_split(dataset_list, test_size = 0.2, shuffle = True)\n",
    "val_data, test_data = train_test_split(val_test_data, test_size = 0.5, shuffle = True)\n",
    "\n",
    "dataset_train = ImageNetDataset(data_dir, train_data, classes, transform = input_transform)\n",
    "dataset_val = ImageNetDataset(data_dir,val_data, classes, transform = input_transform)\n",
    "dataset_test= ImageNetDataset(data_dir, test_data, classes, transform = input_transform)\n",
    "\n",
    "\n",
    "image_datasets = {'train':dataset_train, 'val':dataset_val} #тут надо вставить датасеты\n",
    "\n",
    "dataloaders = {x: torch.utils.data.DataLoader(image_datasets[x], batch_size=64,\n",
    "                                             shuffle=True, num_workers=4)\n",
    "              for x in ['train', 'val']}\n",
    "dataset_sizes = {x: len(image_datasets[x]) for x in ['train', 'val']}\n",
    "class_names = classes_inv #это может не работать"
   ]
  },
  {
   "cell_type": "code",
   "execution_count": 5,
   "metadata": {},
   "outputs": [
    {
     "name": "stderr",
     "output_type": "stream",
     "text": [
      "/home/vlad/GarsegVenv/lib/python3.8/site-packages/torchvision/models/_utils.py:208: UserWarning: The parameter 'pretrained' is deprecated since 0.13 and will be removed in 0.15, please use 'weights' instead.\n",
      "  warnings.warn(\n",
      "/home/vlad/GarsegVenv/lib/python3.8/site-packages/torchvision/models/_utils.py:223: UserWarning: Arguments other than a weight enum or `None` for 'weights' are deprecated since 0.13 and will be removed in 0.15. The current behavior is equivalent to passing `weights=ResNet18_Weights.IMAGENET1K_V1`. You can also use `weights=ResNet18_Weights.DEFAULT` to get the most up-to-date weights.\n",
      "  warnings.warn(msg)\n"
     ]
    }
   ],
   "source": [
    "N_CLASSES = 10\n",
    "\n",
    "model_ft = torchvision.models.resnet18(pretrained=True)\n",
    "num_ftrs = model_ft.fc.in_features\n",
    "model_ft.fc = nn.Linear(num_ftrs, N_CLASSES)\n",
    "\n",
    "model_ft = model_ft.to(device)\n",
    "\n",
    "criterion = nn.CrossEntropyLoss()\n",
    "\n",
    "# Observe that all parameters are being optimized\n",
    "optimizer_ft = torch.optim.SGD(model_ft.parameters(), lr=0.001, momentum=0.9)\n",
    "\n",
    "# Decay LR by a factor of 0.1 every 7 epochs\n",
    "exp_lr_scheduler = torch.optim.lr_scheduler.StepLR(optimizer_ft, step_size=7, gamma=0.1)"
   ]
  },
  {
   "cell_type": "code",
   "execution_count": 6,
   "metadata": {},
   "outputs": [
    {
     "name": "stdout",
     "output_type": "stream",
     "text": [
      "Epoch 0/24\n",
      "----------\n",
      "train Loss: 0.6739 Acc: 0.8078\n",
      "val Loss: 0.2800 Acc: 0.9245\n",
      "\n",
      "Epoch 1/24\n",
      "----------\n",
      "train Loss: 0.2252 Acc: 0.9373\n",
      "val Loss: 0.1958 Acc: 0.9470\n",
      "\n",
      "Epoch 2/24\n",
      "----------\n",
      "train Loss: 0.1500 Acc: 0.9598\n",
      "val Loss: 0.1589 Acc: 0.9579\n",
      "\n",
      "Epoch 3/24\n",
      "----------\n",
      "train Loss: 0.1039 Acc: 0.9740\n",
      "val Loss: 0.1380 Acc: 0.9634\n",
      "\n",
      "Epoch 4/24\n",
      "----------\n",
      "train Loss: 0.0733 Acc: 0.9850\n",
      "val Loss: 0.1308 Acc: 0.9595\n",
      "\n",
      "Epoch 5/24\n",
      "----------\n",
      "train Loss: 0.0531 Acc: 0.9906\n",
      "val Loss: 0.1224 Acc: 0.9642\n",
      "\n",
      "Epoch 6/24\n",
      "----------\n",
      "train Loss: 0.0403 Acc: 0.9943\n",
      "val Loss: 0.1196 Acc: 0.9650\n",
      "\n",
      "Epoch 7/24\n",
      "----------\n",
      "train Loss: 0.0294 Acc: 0.9976\n",
      "val Loss: 0.1153 Acc: 0.9657\n",
      "\n",
      "Epoch 8/24\n",
      "----------\n",
      "train Loss: 0.0298 Acc: 0.9975\n",
      "val Loss: 0.1175 Acc: 0.9650\n",
      "\n",
      "Epoch 9/24\n",
      "----------\n",
      "train Loss: 0.0283 Acc: 0.9975\n",
      "val Loss: 0.1172 Acc: 0.9665\n",
      "\n",
      "Epoch 10/24\n",
      "----------\n",
      "train Loss: 0.0278 Acc: 0.9979\n",
      "val Loss: 0.1174 Acc: 0.9650\n",
      "\n",
      "Epoch 11/24\n",
      "----------\n",
      "train Loss: 0.0272 Acc: 0.9977\n",
      "val Loss: 0.1133 Acc: 0.9673\n",
      "\n",
      "Epoch 12/24\n",
      "----------\n",
      "train Loss: 0.0265 Acc: 0.9982\n",
      "val Loss: 0.1154 Acc: 0.9657\n",
      "\n",
      "Epoch 13/24\n",
      "----------\n",
      "train Loss: 0.0271 Acc: 0.9980\n",
      "val Loss: 0.1143 Acc: 0.9657\n",
      "\n",
      "Epoch 14/24\n",
      "----------\n",
      "train Loss: 0.0259 Acc: 0.9980\n",
      "val Loss: 0.1160 Acc: 0.9665\n",
      "\n",
      "Epoch 15/24\n",
      "----------\n",
      "train Loss: 0.0254 Acc: 0.9985\n",
      "val Loss: 0.1181 Acc: 0.9657\n",
      "\n",
      "Epoch 16/24\n",
      "----------\n"
     ]
    }
   ],
   "source": [
    "from train import train_model\n",
    "\n",
    "model_ft = train_model(model_ft, device, dataloaders, criterion, optimizer_ft, exp_lr_scheduler, num_epochs=25)"
   ]
  },
  {
   "cell_type": "code",
   "execution_count": null,
   "metadata": {},
   "outputs": [],
   "source": [
    "from visualize import visualize_model\n",
    "\n",
    "visualize_model(model_ft, device, dataloaders, class_names)"
   ]
  }
 ],
 "metadata": {
  "kernelspec": {
   "display_name": "Python 3.8.10 ('GarsegVenv')",
   "language": "python",
   "name": "python3"
  },
  "language_info": {
   "codemirror_mode": {
    "name": "ipython",
    "version": 3
   },
   "file_extension": ".py",
   "mimetype": "text/x-python",
   "name": "python",
   "nbconvert_exporter": "python",
   "pygments_lexer": "ipython3",
   "version": "3.8.10"
  },
  "orig_nbformat": 4,
  "vscode": {
   "interpreter": {
    "hash": "41368016e32fa4817c86774bb1f02c2c34338a5d19a2047ba8128dc65ff4d210"
   }
  }
 },
 "nbformat": 4,
 "nbformat_minor": 2
}
