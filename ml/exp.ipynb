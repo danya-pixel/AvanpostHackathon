{
 "cells": [
  {
   "cell_type": "code",
   "execution_count": 1,
   "metadata": {},
   "outputs": [
    {
     "name": "stderr",
     "output_type": "stream",
     "text": [
      "/home/danya-sakharov/AvanpostHackathon/.venv/lib/python3.10/site-packages/tqdm/auto.py:22: TqdmWarning: IProgress not found. Please update jupyter and ipywidgets. See https://ipywidgets.readthedocs.io/en/stable/user_install.html\n",
      "  from .autonotebook import tqdm as notebook_tqdm\n"
     ]
    }
   ],
   "source": [
    "import torch\n",
    "import torchvision\n",
    "import torch.nn as nn\n",
    "import numpy as np\n",
    "import matplotlib.pyplot as plt\n",
    "import os\n",
    "from dataset_working import ImageNetDataset\n",
    "from sklearn.model_selection import train_test_split\n",
    "import torchvision.transforms as transforms\n",
    "import PIL\n",
    "import os\n",
    "from pathlib import Path\n",
    "from typing import Callable, List, Tuple, Dict\n",
    "from torchvision.models.feature_extraction import get_graph_node_names\n",
    "from torchvision.models.feature_extraction import create_feature_extractor\n",
    "import torch\n",
    "\n",
    "import pandas as pd\n",
    "\n",
    "\n",
    "import matplotlib.pyplot as plt\n",
    "\n",
    "from torch import nn\n",
    "import torch.optim as optim\n",
    "import numpy as np\n",
    "import tqdm as tqdm\n",
    "import copy\n",
    "from sklearn.metrics import f1_score\n",
    "import shutil\n",
    "from inspect import stack\n",
    "from sklearn.preprocessing import label_binarize\n",
    "from itertools import cycle\n",
    "\n",
    "from torch.utils.data import Dataset, DataLoader\n",
    "import PIL\n",
    "import torchvision.transforms as transforms\n",
    "from torchvision.models import resnet50, ResNet50_Weights\n",
    "from sklearn.model_selection import train_test_split\n",
    "from finetuner import finetune_model"
   ]
  },
  {
   "cell_type": "code",
   "execution_count": 2,
   "metadata": {},
   "outputs": [
    {
     "name": "stderr",
     "output_type": "stream",
     "text": [
      "/home/danya-sakharov/AvanpostHackathon/.venv/lib/python3.10/site-packages/torch/utils/data/dataloader.py:554: UserWarning: This DataLoader will create 32 worker processes in total. Our suggested max number of worker in current system is 24, which is smaller than what this DataLoader is going to create. Please be aware that excessive worker creation might get DataLoader running slow or even freeze, lower the worker number to avoid potential slowness/freeze if necessary.\n",
      "  warnings.warn(_create_warning_msg(\n",
      "/home/danya-sakharov/AvanpostHackathon/.venv/lib/python3.10/site-packages/torch/utils/data/dataloader.py:554: UserWarning: This DataLoader will create 32 worker processes in total. Our suggested max number of worker in current system is 24, which is smaller than what this DataLoader is going to create. Please be aware that excessive worker creation might get DataLoader running slow or even freeze, lower the worker number to avoid potential slowness/freeze if necessary.\n",
      "  warnings.warn(_create_warning_msg(\n",
      "100%|██████████| 10/10 [00:00<00:00, 3138.51it/s]\n",
      "/home/danya-sakharov/AvanpostHackathon/.venv/lib/python3.10/site-packages/torch/utils/data/dataloader.py:554: UserWarning: This DataLoader will create 32 worker processes in total. Our suggested max number of worker in current system is 24, which is smaller than what this DataLoader is going to create. Please be aware that excessive worker creation might get DataLoader running slow or even freeze, lower the worker number to avoid potential slowness/freeze if necessary.\n",
      "  warnings.warn(_create_warning_msg(\n",
      "/home/danya-sakharov/AvanpostHackathon/.venv/lib/python3.10/site-packages/torch/utils/data/dataloader.py:554: UserWarning: This DataLoader will create 32 worker processes in total. Our suggested max number of worker in current system is 24, which is smaller than what this DataLoader is going to create. Please be aware that excessive worker creation might get DataLoader running slow or even freeze, lower the worker number to avoid potential slowness/freeze if necessary.\n",
      "  warnings.warn(_create_warning_msg(\n"
     ]
    },
    {
     "data": {
      "text/plain": [
       "{'init_val_f1': 0.948432284699526,\n",
       " 'init_val_acc': tensor(0.9485),\n",
       " 'init_test_f1': 0.980379209365589,\n",
       " 'init_test_acc': tensor(0.9803),\n",
       " 'best_threshold': [0.07051203,\n",
       "  0.08375094,\n",
       "  0.63695383,\n",
       "  0.039096385,\n",
       "  0.2678677,\n",
       "  0.34997958,\n",
       "  0.19771491,\n",
       "  0.11990949,\n",
       "  0.23373367,\n",
       "  0.23180081],\n",
       " 'val_accuracy': tensor(0.9691),\n",
       " 'val_f1': 0.9694142444396204,\n",
       " 'test_accuracy': tensor(0.9803),\n",
       " 'test_f1': 0.980379209365589}"
      ]
     },
     "execution_count": 2,
     "metadata": {},
     "output_type": "execute_result"
    }
   ],
   "source": [
    "from ood import find_smart_thresholds, test_model_ood\n",
    "from finetuner import load_model_finetune, load_model\n",
    "from dataset_working import get_dataloaders_train\n",
    "\n",
    "\n",
    "data_dir = 'dataset'\n",
    "classes = {'trucks':0, 'minibus':1, 'ski':2, 'dump_trucks':3, 'bicycles':4, 'snowboard':5, 'tractor':6, 'trains':7, 'gazon':8, 'horses':9}\n",
    "data_dir =\"/home/danya-sakharov/AvanpostHackathon/ml/dataset\"\n",
    "planes = \"/home/danya-sakharov/AvanpostHackathon/ml/planes\"\n",
    "\n",
    "meta = dict()\n",
    "np.random.seed(42)\n",
    "torch.seed()\n",
    "device = torch.device(\"cuda:0\") if torch.cuda.is_available() else torch.device(\"cpu\")\n",
    "model_ft = load_model(classes, \"/home/danya-sakharov/AvanpostHackathon/ml/model50.pth\", device)\n",
    "model_ft.eval()\n",
    "dataloaders = get_dataloaders_train(data_dir, classes)\n",
    "\n",
    "find_smart_thresholds(model_ft, device, dataloaders, test_model_ood)"
   ]
  },
  {
   "cell_type": "code",
   "execution_count": 1,
   "metadata": {},
   "outputs": [
    {
     "name": "stderr",
     "output_type": "stream",
     "text": [
      "/home/danya-sakharov/AvanpostHackathon/.venv/lib/python3.10/site-packages/tqdm/auto.py:22: TqdmWarning: IProgress not found. Please update jupyter and ipywidgets. See https://ipywidgets.readthedocs.io/en/stable/user_install.html\n",
      "  from .autonotebook import tqdm as notebook_tqdm\n"
     ]
    }
   ],
   "source": [
    "from finetuner import predict_samples, predict_samples_old\n",
    "classes = {'trucks':0, 'minibus':1, 'ski':2, 'dump_trucks':3, 'bicycles':4, 'snowboard':5, 'tractor':6, 'trains':7, 'gazon':8, 'horses':9}\n",
    "pth_path = \"/home/danya-sakharov/AvanpostHackathon/ml/model50.pth\"\n",
    "\n",
    "new = predict_samples(classes, pth_path, \"/home/danya-sakharov/AvanpostHackathon/ml/new_data/original\")\n",
    "old = predict_samples_old(classes, pth_path, \"/home/danya-sakharov/AvanpostHackathon/ml/new_data/original\")"
   ]
  },
  {
   "cell_type": "code",
   "execution_count": 2,
   "metadata": {},
   "outputs": [
    {
     "data": {
      "text/plain": [
       "dict_values([5, 5, 5, 5, 5, 5, 5, 9, 7, 7, 5, 7, 9, 7, 5, 5, 5, 5, 5, 3, 9, 5, 5, 0, 2, 3, 9, 9, 5, 9, 5, 3, 5, 5, 5, 5, 5, 7, 0, -1, 5, 5, 5, 7, 3, 9, 5, 5, -1, 3, 9, 5, 5, 5, 9, 5, 9, 7, 5, 9, 5, 5, 7, 5, 7, 5, 7, 5, 9, 5, 5, 5, 5, 5, 9, 5, 7])"
      ]
     },
     "execution_count": 2,
     "metadata": {},
     "output_type": "execute_result"
    }
   ],
   "source": [
    "new.values()"
   ]
  },
  {
   "cell_type": "code",
   "execution_count": 3,
   "metadata": {},
   "outputs": [
    {
     "data": {
      "text/plain": [
       "dict_values([9, 5, 5, 0, 5, 5, 5, 5, 7, 5, 7, 9, 9, 9, 5, 5, 5, 7, 5, 5, 5, 5, 5, 9, 5, 5, 5, 3, 5, 5, 7, 9, 5, 5, 3, 9, 9, 5, 5, 3, 5, 5, 5, 9, 7, 5, 5, 9, 5, 5, 9, 7, 7, 9, 9, 5, 5, 5, 5, 5, 7, 7, 5, 9, 2, 5, 0, 7, 5, 9, 5, 5, 3, 5, 7, 3, 5])"
      ]
     },
     "execution_count": 3,
     "metadata": {},
     "output_type": "execute_result"
    }
   ],
   "source": [
    "old.values()"
   ]
  },
  {
   "cell_type": "code",
   "execution_count": 2,
   "metadata": {},
   "outputs": [
    {
     "name": "stdout",
     "output_type": "stream",
     "text": [
      "Epoch 0/9\n",
      "----------\n",
      "train Loss: 1.6328 Acc: 0.6371\n",
      "val Loss: 0.9499 Acc: 0.8852\n",
      "Epoch 1/9\n",
      "----------\n",
      "train Loss: 0.7712 Acc: 0.9059\n",
      "val Loss: 0.5615 Acc: 0.9373\n",
      "Epoch 2/9\n",
      "----------\n",
      "train Loss: 0.5336 Acc: 0.9301\n",
      "val Loss: 0.4206 Acc: 0.9346\n",
      "Epoch 3/9\n",
      "----------\n",
      "train Loss: 0.4187 Acc: 0.9382\n",
      "val Loss: 0.3592 Acc: 0.9382\n",
      "Epoch 4/9\n",
      "----------\n",
      "train Loss: 0.3519 Acc: 0.9438\n",
      "val Loss: 0.3108 Acc: 0.9505\n",
      "Epoch 5/9\n",
      "----------\n",
      "train Loss: 0.3190 Acc: 0.9433\n",
      "val Loss: 0.2753 Acc: 0.9505\n",
      "Epoch 6/9\n",
      "----------\n",
      "train Loss: 0.2966 Acc: 0.9445\n",
      "val Loss: 0.2785 Acc: 0.9488\n",
      "Epoch 7/9\n",
      "----------\n",
      "train Loss: 0.2859 Acc: 0.9449\n",
      "val Loss: 0.2526 Acc: 0.9435\n",
      "Epoch 8/9\n",
      "----------\n",
      "train Loss: 0.2742 Acc: 0.9505\n",
      "val Loss: 0.2565 Acc: 0.9549\n",
      "Epoch 9/9\n",
      "----------\n",
      "train Loss: 0.2752 Acc: 0.9492\n",
      "val Loss: 0.2439 Acc: 0.9585\n",
      "Training complete in 7m 41s\n",
      "Best val Acc: 0.958481\n"
     ]
    },
    {
     "data": {
      "text/plain": [
       "{'classes': ['trucks',\n",
       "  'minibus',\n",
       "  'ski',\n",
       "  'dump_trucks',\n",
       "  'bicycles',\n",
       "  'snowboard',\n",
       "  'tractor',\n",
       "  'trains',\n",
       "  'gazon',\n",
       "  'horses',\n",
       "  'planes'],\n",
       " 'pth_path': PosixPath('/home/danya-sakharov/AvanpostHackathon/ml/model50_fine.pth'),\n",
       " 'epoch_loss': [1.632797222405053,\n",
       "  0.9499036941427224,\n",
       "  0.7712286037783469,\n",
       "  0.5615175360083159,\n",
       "  0.5335773545400895,\n",
       "  0.42056288114706114,\n",
       "  0.4187101714388754,\n",
       "  0.3591751686886427,\n",
       "  0.3519143162972623,\n",
       "  0.3107919912034968,\n",
       "  0.31897824956577436,\n",
       "  0.27530527141195305,\n",
       "  0.29659038364650187,\n",
       "  0.2785289649828584,\n",
       "  0.28593354541487365,\n",
       "  0.2525568639747667,\n",
       "  0.27418092612244627,\n",
       "  0.2565142015791613,\n",
       "  0.275164556243859,\n",
       "  0.24386713050911368],\n",
       " 'epoch_acc': [0.6370967741935484,\n",
       "  0.8851590106007067,\n",
       "  0.9058771542200619,\n",
       "  0.9372791519434629,\n",
       "  0.9300707026071586,\n",
       "  0.9346289752650176,\n",
       "  0.9382456915598764,\n",
       "  0.9381625441696113,\n",
       "  0.943769332744145,\n",
       "  0.950530035335689,\n",
       "  0.9433274414494035,\n",
       "  0.950530035335689,\n",
       "  0.9445426425099426,\n",
       "  0.9487632508833922,\n",
       "  0.9448740609809987,\n",
       "  0.9434628975265018,\n",
       "  0.9505081749889528,\n",
       "  0.9549469964664311,\n",
       "  0.9491825011047282,\n",
       "  0.9584805653710248],\n",
       " 'acc': 0.9699646830558777,\n",
       " 'f1': 0.9692215867288322}"
      ]
     },
     "execution_count": 2,
     "metadata": {},
     "output_type": "execute_result"
    }
   ],
   "source": [
    "data_dir = 'dataset'\n",
    "classes = {'trucks':0, 'minibus':1, 'ski':2, 'dump_trucks':3, 'bicycles':4, 'snowboard':5, 'tractor':6, 'trains':7, 'gazon':8, 'horses':9}\n",
    "data_dir =\"/home/danya-sakharov/AvanpostHackathon/ml/dataset\"\n",
    "planes = \"/home/danya-sakharov/AvanpostHackathon/ml/planes\"\n",
    "meta = finetune_model(data_dir, list(classes.keys()), 'model50.pth', planes ,\"planes\")\n",
    "meta"
   ]
  },
  {
   "cell_type": "code",
   "execution_count": 5,
   "metadata": {},
   "outputs": [
    {
     "ename": "ValueError",
     "evalue": "num_samples should be a positive integer value, but got num_samples=0",
     "output_type": "error",
     "traceback": [
      "\u001b[0;31m---------------------------------------------------------------------------\u001b[0m",
      "\u001b[0;31mValueError\u001b[0m                                Traceback (most recent call last)",
      "Cell \u001b[0;32mIn[5], line 11\u001b[0m\n\u001b[1;32m      8\u001b[0m init_dataframe \u001b[39m=\u001b[39m pd\u001b[39m.\u001b[39mDataFrame({\u001b[39m'\u001b[39m\u001b[39mx\u001b[39m\u001b[39m'\u001b[39m: new_files, \u001b[39m'\u001b[39m\u001b[39my\u001b[39m\u001b[39m'\u001b[39m: new_lables})\n\u001b[1;32m      9\u001b[0m dataset_pred \u001b[39m=\u001b[39m ImageNetDatasetPred(\n\u001b[1;32m     10\u001b[0m     init_dataframe, transform\u001b[39m=\u001b[39mget_test_transforms())\n\u001b[0;32m---> 11\u001b[0m dataloader_pred \u001b[39m=\u001b[39m torch\u001b[39m.\u001b[39;49mutils\u001b[39m.\u001b[39;49mdata\u001b[39m.\u001b[39;49mDataLoader(\n\u001b[1;32m     12\u001b[0m     dataset_pred, batch_size\u001b[39m=\u001b[39;49m\u001b[39m64\u001b[39;49m, shuffle\u001b[39m=\u001b[39;49m\u001b[39mTrue\u001b[39;49;00m, num_workers\u001b[39m=\u001b[39;49mNUM_WORKERS)\n",
      "File \u001b[0;32m~/AvanpostHackathon-1/.venv/lib/python3.10/site-packages/torch/utils/data/dataloader.py:344\u001b[0m, in \u001b[0;36mDataLoader.__init__\u001b[0;34m(self, dataset, batch_size, shuffle, sampler, batch_sampler, num_workers, collate_fn, pin_memory, drop_last, timeout, worker_init_fn, multiprocessing_context, generator, prefetch_factor, persistent_workers, pin_memory_device)\u001b[0m\n\u001b[1;32m    342\u001b[0m \u001b[39melse\u001b[39;00m:  \u001b[39m# map-style\u001b[39;00m\n\u001b[1;32m    343\u001b[0m     \u001b[39mif\u001b[39;00m shuffle:\n\u001b[0;32m--> 344\u001b[0m         sampler \u001b[39m=\u001b[39m RandomSampler(dataset, generator\u001b[39m=\u001b[39;49mgenerator)  \u001b[39m# type: ignore[arg-type]\u001b[39;00m\n\u001b[1;32m    345\u001b[0m     \u001b[39melse\u001b[39;00m:\n\u001b[1;32m    346\u001b[0m         sampler \u001b[39m=\u001b[39m SequentialSampler(dataset)  \u001b[39m# type: ignore[arg-type]\u001b[39;00m\n",
      "File \u001b[0;32m~/AvanpostHackathon-1/.venv/lib/python3.10/site-packages/torch/utils/data/sampler.py:107\u001b[0m, in \u001b[0;36mRandomSampler.__init__\u001b[0;34m(self, data_source, replacement, num_samples, generator)\u001b[0m\n\u001b[1;32m    103\u001b[0m     \u001b[39mraise\u001b[39;00m \u001b[39mTypeError\u001b[39;00m(\u001b[39m\"\u001b[39m\u001b[39mreplacement should be a boolean value, but got \u001b[39m\u001b[39m\"\u001b[39m\n\u001b[1;32m    104\u001b[0m                     \u001b[39m\"\u001b[39m\u001b[39mreplacement=\u001b[39m\u001b[39m{}\u001b[39;00m\u001b[39m\"\u001b[39m\u001b[39m.\u001b[39mformat(\u001b[39mself\u001b[39m\u001b[39m.\u001b[39mreplacement))\n\u001b[1;32m    106\u001b[0m \u001b[39mif\u001b[39;00m \u001b[39mnot\u001b[39;00m \u001b[39misinstance\u001b[39m(\u001b[39mself\u001b[39m\u001b[39m.\u001b[39mnum_samples, \u001b[39mint\u001b[39m) \u001b[39mor\u001b[39;00m \u001b[39mself\u001b[39m\u001b[39m.\u001b[39mnum_samples \u001b[39m<\u001b[39m\u001b[39m=\u001b[39m \u001b[39m0\u001b[39m:\n\u001b[0;32m--> 107\u001b[0m     \u001b[39mraise\u001b[39;00m \u001b[39mValueError\u001b[39;00m(\u001b[39m\"\u001b[39m\u001b[39mnum_samples should be a positive integer \u001b[39m\u001b[39m\"\u001b[39m\n\u001b[1;32m    108\u001b[0m                      \u001b[39m\"\u001b[39m\u001b[39mvalue, but got num_samples=\u001b[39m\u001b[39m{}\u001b[39;00m\u001b[39m\"\u001b[39m\u001b[39m.\u001b[39mformat(\u001b[39mself\u001b[39m\u001b[39m.\u001b[39mnum_samples))\n",
      "\u001b[0;31mValueError\u001b[0m: num_samples should be a positive integer value, but got num_samples=0"
     ]
    }
   ],
   "source": [
    "import pandas as pd\n",
    "import torch\n",
    "from dataset_working import get_all_files, ImageNetDatasetPred, get_test_transforms\n",
    "data_dir =\"/home/danya-sakharov/AvanpostHackathon-1/ml/palnes\"\n",
    "NUM_WORKERS = 1\n",
    "new_files, _ = get_all_files(data_dir=data_dir)\n",
    "new_lables = 0 * len(new_files)\n",
    "init_dataframe = pd.DataFrame({'x': new_files, 'y': new_lables})\n",
    "dataset_pred = ImageNetDatasetPred(\n",
    "    init_dataframe, transform=get_test_transforms())\n",
    "dataloader_pred = torch.utils.data.DataLoader(\n",
    "    dataset_pred, batch_size=64, shuffle=True, num_workers=NUM_WORKERS)\n"
   ]
  },
  {
   "cell_type": "code",
   "execution_count": 6,
   "metadata": {},
   "outputs": [
    {
     "data": {
      "text/plain": [
       "[]"
      ]
     },
     "execution_count": 6,
     "metadata": {},
     "output_type": "execute_result"
    }
   ],
   "source": [
    "new_files"
   ]
  },
  {
   "cell_type": "code",
   "execution_count": 1,
   "metadata": {},
   "outputs": [
    {
     "name": "stderr",
     "output_type": "stream",
     "text": [
      "/home/danya-sakharov/AvanpostHackathon-1/.venv/lib/python3.10/site-packages/tqdm/auto.py:22: TqdmWarning: IProgress not found. Please update jupyter and ipywidgets. See https://ipywidgets.readthedocs.io/en/stable/user_install.html\n",
      "  from .autonotebook import tqdm as notebook_tqdm\n"
     ]
    }
   ],
   "source": [
    "from finetuner import predict_samples\n",
    "classes = {'trucks':0, 'minibus':1, 'ski':2, 'dump_trucks':3, 'bicycles':4, 'snowboard':5, 'tractor':6, 'trains':7, 'gazon':8, 'horses':9, 'planes':10}\n",
    "d = predict_samples(list(classes.keys()), \"model_fine.pth\", \"/home/danya-sakharov/AvanpostHackathon-1/ml/planes\")"
   ]
  }
 ],
 "metadata": {
  "kernelspec": {
   "display_name": "Python 3.10.6 ('.venv': venv)",
   "language": "python",
   "name": "python3"
  },
  "language_info": {
   "codemirror_mode": {
    "name": "ipython",
    "version": 3
   },
   "file_extension": ".py",
   "mimetype": "text/x-python",
   "name": "python",
   "nbconvert_exporter": "python",
   "pygments_lexer": "ipython3",
   "version": "3.10.6"
  },
  "orig_nbformat": 4,
  "vscode": {
   "interpreter": {
    "hash": "74580104ab65a207e484a84db4a7c58faf011e7aac7f947ff0d84bbff7d0dec3"
   }
  }
 },
 "nbformat": 4,
 "nbformat_minor": 2
}
