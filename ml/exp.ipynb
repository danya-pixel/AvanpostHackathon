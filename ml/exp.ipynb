{
 "cells": [
  {
   "cell_type": "code",
   "execution_count": 1,
   "metadata": {},
   "outputs": [
    {
     "name": "stderr",
     "output_type": "stream",
     "text": [
      "/home/danya-sakharov/AvanpostHackathon-1/.venv/lib/python3.10/site-packages/tqdm/auto.py:22: TqdmWarning: IProgress not found. Please update jupyter and ipywidgets. See https://ipywidgets.readthedocs.io/en/stable/user_install.html\n",
      "  from .autonotebook import tqdm as notebook_tqdm\n"
     ]
    }
   ],
   "source": [
    "import torch\n",
    "import torchvision\n",
    "import torch.nn as nn\n",
    "import numpy as np\n",
    "import matplotlib.pyplot as plt\n",
    "import os\n",
    "from dataset_working import ImageNetDataset\n",
    "from sklearn.model_selection import train_test_split\n",
    "import torchvision.transforms as transforms\n",
    "import PIL\n",
    "import os\n",
    "from pathlib import Path\n",
    "from typing import Callable, List, Tuple, Dict\n",
    "from torchvision.models.feature_extraction import get_graph_node_names\n",
    "from torchvision.models.feature_extraction import create_feature_extractor\n",
    "import torch\n",
    "\n",
    "import pandas as pd\n",
    "\n",
    "\n",
    "import matplotlib.pyplot as plt\n",
    "\n",
    "from torch import nn\n",
    "import torch.optim as optim\n",
    "import numpy as np\n",
    "import tqdm as tqdm\n",
    "import copy\n",
    "from sklearn.metrics import f1_score\n",
    "import shutil\n",
    "from inspect import stack\n",
    "from sklearn.preprocessing import label_binarize\n",
    "from itertools import cycle\n",
    "\n",
    "from torch.utils.data import Dataset, DataLoader\n",
    "import PIL\n",
    "import torchvision.transforms as transforms\n",
    "from torchvision.models import resnet50, ResNet50_Weights\n",
    "from sklearn.model_selection import train_test_split\n",
    "from finetuner import finetune_model"
   ]
  },
  {
   "cell_type": "code",
   "execution_count": 2,
   "metadata": {},
   "outputs": [
    {
     "data": {
      "text/plain": [
       "[{'image': tensor([[[[-0.7308, -0.7479, -0.6965,  ...,  1.4783,  1.4783,  1.4783],\n",
       "            [-0.7308, -0.7479, -0.6965,  ...,  1.4783,  1.4783,  1.4783],\n",
       "            [-0.7479, -0.7650, -0.7308,  ...,  1.4783,  1.4783,  1.4783],\n",
       "            ...,\n",
       "            [-1.0048, -1.0048, -0.9877,  ...,  0.2453,  0.1939,  0.1939],\n",
       "            [-1.2103, -1.0904, -1.0390,  ...,  0.2453,  0.1939,  0.1939],\n",
       "            [-1.3130, -1.1760, -1.0390,  ...,  0.3823,  0.4166,  0.4166]],\n",
       "  \n",
       "           [[-1.6506, -1.6331, -1.4755,  ...,  1.7808,  1.7808,  1.7808],\n",
       "            [-1.6506, -1.6331, -1.4755,  ...,  1.7808,  1.7808,  1.7808],\n",
       "            [-1.6506, -1.6506, -1.5105,  ...,  1.7808,  1.7808,  1.7808],\n",
       "            ...,\n",
       "            [-1.6506, -1.6856, -1.6681,  ...,  0.2052,  0.1702,  0.1702],\n",
       "            [-1.8081, -1.7206, -1.7031,  ...,  0.2052,  0.1702,  0.1702],\n",
       "            [-1.8782, -1.7556, -1.7031,  ...,  0.3627,  0.3978,  0.3978]],\n",
       "  \n",
       "           [[-1.3513, -1.3513, -1.2293,  ...,  2.0300,  2.0300,  2.0300],\n",
       "            [-1.3513, -1.3513, -1.2293,  ...,  2.0300,  2.0300,  2.0300],\n",
       "            [-1.3513, -1.3513, -1.2641,  ...,  2.0300,  2.0300,  2.0300],\n",
       "            ...,\n",
       "            [-1.6302, -1.6824, -1.7347,  ...,  0.2871,  0.2522,  0.2522],\n",
       "            [-1.7173, -1.6824, -1.7347,  ...,  0.2696,  0.2348,  0.2348],\n",
       "            [-1.7347, -1.6999, -1.7173,  ...,  0.4265,  0.4614,  0.4614]]],\n",
       "  \n",
       "  \n",
       "          [[[-0.4226, -0.4054, -0.3883,  ...,  1.2214,  1.2214,  1.2214],\n",
       "            [-0.3712, -0.3541, -0.3369,  ...,  1.1187,  1.1187,  1.1187],\n",
       "            [-0.2513, -0.2513, -0.2513,  ...,  0.9817,  0.9474,  0.9132],\n",
       "            ...,\n",
       "            [ 0.1426, -0.2342,  1.0159,  ..., -0.4568, -0.4739, -0.4226],\n",
       "            [-0.3198, -0.9192, -0.3541,  ..., -0.0801, -0.2856, -0.4397],\n",
       "            [-0.1999, -0.5767, -0.8507,  ..., -0.0287, -0.1657, -0.2684]],\n",
       "  \n",
       "           [[ 0.9230,  1.0105,  0.9405,  ...,  1.6758,  1.6758,  1.6758],\n",
       "            [ 0.9405,  0.9405,  0.9580,  ...,  1.6583,  1.6933,  1.6933],\n",
       "            [ 0.9405,  0.9230,  1.0105,  ...,  1.6057,  1.6232,  1.6057],\n",
       "            ...,\n",
       "            [ 0.2227, -0.1275,  1.1681,  ..., -0.1275, -0.1450, -0.1099],\n",
       "            [-0.2500, -0.8102, -0.2325,  ...,  0.2402,  0.0301, -0.1625],\n",
       "            [-0.1450, -0.5126, -0.7402,  ...,  0.2927,  0.1527,  0.0126]],\n",
       "  \n",
       "           [[ 2.5354,  2.5354,  2.5354,  ...,  2.6400,  2.6400,  2.6400],\n",
       "            [ 2.5180,  2.5180,  2.5180,  ...,  2.6400,  2.6400,  2.6400],\n",
       "            [ 2.5529,  2.5354,  2.5180,  ...,  2.6400,  2.6400,  2.6400],\n",
       "            ...,\n",
       "            [ 0.1476, -0.3578,  0.7402,  ..., -1.0724, -1.0898, -1.0376],\n",
       "            [-0.3578, -1.1073, -0.6541,  ..., -0.6367, -0.8458, -1.0376],\n",
       "            [-0.2010, -0.6890, -1.0898,  ..., -0.5844, -0.7238, -0.8284]]],\n",
       "  \n",
       "  \n",
       "          [[[-0.7308, -0.7308, -0.7993,  ..., -0.6452, -0.3883, -0.7137],\n",
       "            [-0.9534, -0.9534, -0.9192,  ..., -0.4568, -0.3541, -0.8335],\n",
       "            [-1.0390, -1.0390, -1.0390,  ..., -0.5424, -0.5424, -0.7993],\n",
       "            ...,\n",
       "            [ 0.4851,  0.5022,  0.4508,  ...,  0.2111,  0.2453,  0.2282],\n",
       "            [ 0.6049,  0.6049,  0.6392,  ...,  0.3309,  0.3481,  0.3309],\n",
       "            [ 0.7248,  0.7248,  0.9817,  ...,  0.1254, -0.0116, -0.0972]],\n",
       "  \n",
       "           [[-0.6176, -0.6176, -0.6877,  ..., -0.6001, -0.3375, -0.6702],\n",
       "            [-0.8452, -0.8452, -0.8102,  ..., -0.3901, -0.3200, -0.7927],\n",
       "            [-0.9328, -0.9328, -0.9153,  ..., -0.4951, -0.4951, -0.7402],\n",
       "            ...,\n",
       "            [ 0.6078,  0.6078,  0.5378,  ...,  0.5903,  0.6078,  0.5553],\n",
       "            [ 0.7304,  0.7304,  0.7129,  ...,  0.7129,  0.7129,  0.6604],\n",
       "            [ 0.8529,  0.8529,  1.0805,  ...,  0.5028,  0.3452,  0.2227]],\n",
       "  \n",
       "           [[-0.4275, -0.4275, -0.5321,  ..., -0.5670, -0.3055, -0.6367],\n",
       "            [-0.6541, -0.6541, -0.6541,  ..., -0.3578, -0.2707, -0.7413],\n",
       "            [-0.7413, -0.7413, -0.7413,  ..., -0.4275, -0.4275, -0.6541],\n",
       "            ...,\n",
       "            [-0.0092, -0.0092, -0.0615,  ..., -0.1661, -0.1487, -0.2010],\n",
       "            [ 0.1128,  0.1128,  0.1128,  ..., -0.0615, -0.0441, -0.0964],\n",
       "            [ 0.2348,  0.2348,  0.4614,  ..., -0.2707, -0.4101, -0.5321]]],\n",
       "  \n",
       "  \n",
       "          ...,\n",
       "  \n",
       "  \n",
       "          [[[-0.5082, -0.5082, -0.2513,  ..., -1.1418, -1.0390, -1.0562],\n",
       "            [-0.5082, -0.5082, -0.2513,  ..., -1.1418, -1.0390, -1.0562],\n",
       "            [-0.6965, -0.6965, -0.3369,  ..., -1.0733, -1.0390, -1.0562],\n",
       "            ...,\n",
       "            [-0.3883, -0.3883, -0.2856,  ...,  0.4851,  0.4166,  0.5022],\n",
       "            [-0.6109, -0.6109, -0.4568,  ...,  0.4508,  0.4166,  0.5193],\n",
       "            [-0.5767, -0.5767, -0.3883,  ...,  0.3652,  0.4508,  0.5707]],\n",
       "  \n",
       "           [[ 0.0126,  0.0126,  0.2052,  ..., -1.0553, -0.9503, -0.9678],\n",
       "            [ 0.0126,  0.0126,  0.2052,  ..., -1.0553, -0.9503, -0.9678],\n",
       "            [-0.1800, -0.1800,  0.1176,  ..., -0.9503, -0.9328, -0.9678],\n",
       "            ...,\n",
       "            [ 0.2577,  0.2577,  0.3102,  ..., -0.7402, -0.7227, -0.7227],\n",
       "            [ 0.0826,  0.0826,  0.1352,  ..., -0.7577, -0.7927, -0.8102],\n",
       "            [ 0.0826,  0.0826,  0.1702,  ..., -0.7577, -0.8102, -0.8803]],\n",
       "  \n",
       "           [[-0.3404, -0.3404, -0.2358,  ..., -0.7761, -0.7413, -0.7413],\n",
       "            [-0.3404, -0.3404, -0.2358,  ..., -0.7761, -0.7413, -0.7413],\n",
       "            [-0.5321, -0.5321, -0.3753,  ..., -0.6193, -0.6890, -0.7238],\n",
       "            ...,\n",
       "            [-0.2532, -0.2532, -0.2184,  ..., -0.7761, -0.7413, -0.6367],\n",
       "            [-0.4450, -0.4450, -0.3578,  ..., -0.7761, -0.7413, -0.6367],\n",
       "            [-0.4101, -0.4101, -0.2358,  ..., -0.6367, -0.5844, -0.5321]]],\n",
       "  \n",
       "  \n",
       "          [[[ 2.2489,  2.2489,  2.2489,  ...,  2.2489,  2.2489,  2.2489],\n",
       "            [ 2.2489,  2.2489,  2.2489,  ...,  2.2489,  2.2489,  2.2489],\n",
       "            [ 2.2489,  2.2489,  2.2489,  ...,  2.2489,  2.2489,  2.2489],\n",
       "            ...,\n",
       "            [ 2.2489,  2.2489,  2.2489,  ...,  2.2489,  2.2489,  2.2489],\n",
       "            [ 2.2489,  2.2489,  2.2489,  ...,  2.2489,  2.2489,  2.2489],\n",
       "            [ 2.2489,  2.2489,  2.2489,  ...,  2.2489,  2.2489,  2.2489]],\n",
       "  \n",
       "           [[ 2.4286,  2.4286,  2.4286,  ...,  2.4286,  2.4286,  2.4286],\n",
       "            [ 2.4286,  2.4286,  2.4286,  ...,  2.4286,  2.4286,  2.4286],\n",
       "            [ 2.4286,  2.4286,  2.4286,  ...,  2.4286,  2.4286,  2.4286],\n",
       "            ...,\n",
       "            [ 2.4286,  2.4286,  2.4286,  ...,  2.4286,  2.4286,  2.4286],\n",
       "            [ 2.4286,  2.4286,  2.4286,  ...,  2.4286,  2.4286,  2.4286],\n",
       "            [ 2.4286,  2.4286,  2.4286,  ...,  2.4286,  2.4286,  2.4286]],\n",
       "  \n",
       "           [[ 2.6400,  2.6400,  2.6400,  ...,  2.6400,  2.6400,  2.6400],\n",
       "            [ 2.6400,  2.6400,  2.6400,  ...,  2.6400,  2.6400,  2.6400],\n",
       "            [ 2.6400,  2.6400,  2.6400,  ...,  2.6400,  2.6400,  2.6400],\n",
       "            ...,\n",
       "            [ 2.6400,  2.6400,  2.6400,  ...,  2.6400,  2.6400,  2.6400],\n",
       "            [ 2.6400,  2.6400,  2.6400,  ...,  2.6400,  2.6400,  2.6400],\n",
       "            [ 2.6400,  2.6400,  2.6400,  ...,  2.6400,  2.6400,  2.6400]]],\n",
       "  \n",
       "  \n",
       "          [[[ 1.4440,  1.5982,  1.6495,  ...,  1.5297,  1.5297,  1.5297],\n",
       "            [ 1.1358,  1.4440,  1.4954,  ...,  1.5297,  1.5297,  1.5297],\n",
       "            [ 0.5193,  0.8789,  1.1358,  ...,  1.5297,  1.5297,  1.5297],\n",
       "            ...,\n",
       "            [ 2.1633,  2.1633,  2.1633,  ...,  2.1975,  2.1975,  2.1975],\n",
       "            [ 2.1633,  2.1633,  2.1633,  ...,  2.1975,  2.1975,  2.1975],\n",
       "            [ 2.1633,  2.1633,  2.1633,  ...,  2.1975,  2.1975,  2.1975]],\n",
       "  \n",
       "           [[ 1.6057,  1.7633,  1.8158,  ...,  1.6758,  1.6758,  1.6758],\n",
       "            [ 1.2906,  1.6057,  1.6583,  ...,  1.6758,  1.6758,  1.6758],\n",
       "            [ 0.6604,  1.0280,  1.2906,  ...,  1.6758,  1.6758,  1.6758],\n",
       "            ...,\n",
       "            [ 2.3410,  2.3410,  2.3410,  ...,  2.3060,  2.3060,  2.3060],\n",
       "            [ 2.3410,  2.3410,  2.3410,  ...,  2.3060,  2.3060,  2.3060],\n",
       "            [ 2.3410,  2.3410,  2.3410,  ...,  2.3060,  2.3060,  2.3060]],\n",
       "  \n",
       "           [[ 1.8208,  1.9777,  2.0300,  ...,  1.9777,  1.9777,  1.9777],\n",
       "            [ 1.5071,  1.8208,  1.8731,  ...,  1.9777,  1.9777,  1.9777],\n",
       "            [ 0.8797,  1.2457,  1.5071,  ...,  1.9777,  1.9777,  1.9777],\n",
       "            ...,\n",
       "            [ 2.5529,  2.5529,  2.5529,  ...,  2.5354,  2.5354,  2.5354],\n",
       "            [ 2.5529,  2.5529,  2.5529,  ...,  2.5354,  2.5354,  2.5354],\n",
       "            [ 2.5529,  2.5529,  2.5529,  ...,  2.5354,  2.5354,  2.5354]]]])},\n",
       " tensor([ 3,  8,  9,  9,  5,  1,  7,  7, 10,  9, 10,  3,  6,  2,  6,  3,  2,  9,\n",
       "          0,  2,  8,  7,  3,  6,  8,  2,  6,  4,  6, 10,  3,  5,  6,  8,  1,  1,\n",
       "          6, 10,  3,  0, 10,  2,  6,  3,  3,  2,  1,  0,  5,  3,  6,  2, 10,  4,\n",
       "          3, 10,  3,  0,  7,  3,  8,  6,  2,  5])]"
      ]
     },
     "execution_count": 2,
     "metadata": {},
     "output_type": "execute_result"
    }
   ],
   "source": [
    "meta = dict()\n",
    "np.random.seed(42)\n",
    "from dataset_working import get_dataloaders\n",
    "torch.seed()\n",
    "\n",
    "# device = torch.device(\"cuda:0\") if torch.cuda.is_available() else torch.device(\"cpu\")\n",
    "# model_ft = load_model_finetune(classes_names, pth_path, device)\n",
    "\n",
    "# classes_names.append(new_data_name)\n",
    "# meta['classes'] = classes_names\n",
    "# meta['pth_path'] = (Path(pth_path).parent / (Path(pth_path).stem + '_fine.pth')).resolve()\n",
    "\n",
    "classes = {'trucks':0, 'minibus':1, 'ski':2, 'dump_trucks':3, 'bicycles':4, 'snowboard':5, 'tractor':6, 'trains':7, 'gazon':8, 'horses':9, 'ff':10}\n",
    "data_dir =\"/home/danya-sakharov/AvanpostHackathon-1/dataset\"\n",
    "\n",
    "dataloaders = get_dataloaders(data_dir, classes, 'planes', 'ff')\n",
    "next(iter(dataloaders['train']))"
   ]
  },
  {
   "cell_type": "code",
   "execution_count": 2,
   "metadata": {},
   "outputs": [
    {
     "name": "stdout",
     "output_type": "stream",
     "text": [
      "Epoch 0/9\n",
      "----------\n",
      "train Loss: 2.0423 Acc: 0.3507\n",
      "val Loss: 1.5277 Acc: 0.6243\n",
      "Epoch 1/9\n",
      "----------\n",
      "train Loss: 1.3280 Acc: 0.6875\n",
      "val Loss: 1.1030 Acc: 0.7486\n",
      "Epoch 2/9\n",
      "----------\n",
      "train Loss: 1.0310 Acc: 0.7556\n",
      "val Loss: 0.8810 Acc: 0.8017\n",
      "Epoch 3/9\n",
      "----------\n",
      "train Loss: 0.8722 Acc: 0.7906\n",
      "val Loss: 0.7778 Acc: 0.8177\n",
      "Epoch 4/9\n",
      "----------\n",
      "train Loss: 0.7826 Acc: 0.7985\n",
      "val Loss: 0.7173 Acc: 0.8108\n",
      "Epoch 5/9\n",
      "----------\n",
      "train Loss: 0.7243 Acc: 0.8072\n",
      "val Loss: 0.6798 Acc: 0.8177\n",
      "Epoch 6/9\n",
      "----------\n",
      "train Loss: 0.6771 Acc: 0.8154\n",
      "val Loss: 0.6498 Acc: 0.8156\n",
      "Epoch 7/9\n",
      "----------\n",
      "train Loss: 0.6652 Acc: 0.8167\n",
      "val Loss: 0.6550 Acc: 0.8122\n",
      "Epoch 8/9\n",
      "----------\n",
      "train Loss: 0.6687 Acc: 0.8119\n",
      "val Loss: 0.6461 Acc: 0.8156\n",
      "Epoch 9/9\n",
      "----------\n",
      "train Loss: 0.6652 Acc: 0.8130\n",
      "val Loss: 0.6178 Acc: 0.8345\n",
      "Training complete in 7m 30s\n",
      "Best val Acc: 0.834497\n"
     ]
    },
    {
     "data": {
      "text/plain": [
       "{'classes': ['trucks',\n",
       "  'minibus',\n",
       "  'ski',\n",
       "  'dump_trucks',\n",
       "  'bicycles',\n",
       "  'snowboard',\n",
       "  'tractor',\n",
       "  'trains',\n",
       "  'gazon',\n",
       "  'horses',\n",
       "  'planes'],\n",
       " 'pth_path': PosixPath('/home/danya-sakharov/AvanpostHackathon-1/ml/model_fine.pth'),\n",
       " 'epoch_loss': [2.0422736482470447,\n",
       "  1.5276768140952681,\n",
       "  1.3280004192189188,\n",
       "  1.103026467328631,\n",
       "  1.0309647424474853,\n",
       "  0.8809623888085009,\n",
       "  0.8721948994391876,\n",
       "  0.7778320532271316,\n",
       "  0.7826408868060686,\n",
       "  0.7173050552107102,\n",
       "  0.7242648725942376,\n",
       "  0.6798308764756059,\n",
       "  0.6770871149931903,\n",
       "  0.6497606581815795,\n",
       "  0.6652125758026283,\n",
       "  0.6550077519603281,\n",
       "  0.6686675907637645,\n",
       "  0.6461455768713072,\n",
       "  0.6651516563813308,\n",
       "  0.6177835810783855],\n",
       " 'epoch_acc': [0.3506980802792321,\n",
       "  0.6243016759776536,\n",
       "  0.687521815008726,\n",
       "  0.7486033519553073,\n",
       "  0.7555846422338569,\n",
       "  0.8016759776536313,\n",
       "  0.7905759162303665,\n",
       "  0.8177374301675978,\n",
       "  0.7985165794066318,\n",
       "  0.8107541899441341,\n",
       "  0.8071553228621292,\n",
       "  0.8177374301675978,\n",
       "  0.8153577661431065,\n",
       "  0.8156424581005587,\n",
       "  0.8166666666666668,\n",
       "  0.8121508379888268,\n",
       "  0.811867364746946,\n",
       "  0.8156424581005587,\n",
       "  0.8130017452006981,\n",
       "  0.8344972067039106],\n",
       " 'acc': 0.9232379794120789,\n",
       " 'f1': 0.9230577371706001}"
      ]
     },
     "execution_count": 2,
     "metadata": {},
     "output_type": "execute_result"
    }
   ],
   "source": [
    "data_dir = 'dataset'\n",
    "classes = {'trucks':0, 'minibus':1, 'ski':2, 'dump_trucks':3, 'bicycles':4, 'snowboard':5, 'tractor':6, 'trains':7, 'gazon':8, 'horses':9}\n",
    "data_dir =\"/home/danya-sakharov/AvanpostHackathon-1/dataset\"\n",
    "planes = \"/home/danya-sakharov/AvanpostHackathon-1/ml/planes\"\n",
    "meta = finetune_model(data_dir, list(classes.keys()), 'model.pth', planes ,\"planes\")\n",
    "meta"
   ]
  },
  {
   "cell_type": "code",
   "execution_count": 2,
   "metadata": {},
   "outputs": [
    {
     "data": {
      "text/plain": [
       "9170198220970151857"
      ]
     },
     "execution_count": 2,
     "metadata": {},
     "output_type": "execute_result"
    }
   ],
   "source": [
    "np.random.seed(42)\n",
    "torch.seed()\n",
    "\n",
    "# device = torch.cuda.device(0) if torch.cuda.is_available() else torch.device(\"cpu\")"
   ]
  },
  {
   "cell_type": "code",
   "execution_count": 2,
   "metadata": {},
   "outputs": [
    {
     "ename": "NameError",
     "evalue": "name 'classes' is not defined",
     "output_type": "error",
     "traceback": [
      "\u001b[0;31m---------------------------------------------------------------------------\u001b[0m",
      "\u001b[0;31mNameError\u001b[0m                                 Traceback (most recent call last)",
      "Cell \u001b[0;32mIn[2], line 6\u001b[0m\n\u001b[1;32m      3\u001b[0m data_list \u001b[39m=\u001b[39m \u001b[39m'\u001b[39m\u001b[39mdataset_list.csv\u001b[39m\u001b[39m'\u001b[39m\n\u001b[1;32m      5\u001b[0m \u001b[39m# classes['govno'] = 11\u001b[39;00m\n\u001b[0;32m----> 6\u001b[0m classes_inv \u001b[39m=\u001b[39m {v: k \u001b[39mfor\u001b[39;00m k, v \u001b[39min\u001b[39;00m classes\u001b[39m.\u001b[39mitems()}\n\u001b[1;32m      7\u001b[0m \u001b[39m# d = get_dataloaders('dataset', classes, 'dataset2', 'govno')\u001b[39;00m\n",
      "\u001b[0;31mNameError\u001b[0m: name 'classes' is not defined"
     ]
    }
   ],
   "source": [
    "from dataset_working import get_dataloaders\n",
    "data_dir = 'dataset'\n",
    "data_list = 'dataset_list.csv'\n",
    "\n",
    "# classes['govno'] = 11\n",
    "classes_inv = {v: k for k, v in classes.items()}\n",
    "# d = get_dataloaders('dataset', classes, 'dataset2', 'govno')"
   ]
  },
  {
   "cell_type": "code",
   "execution_count": 5,
   "metadata": {},
   "outputs": [
    {
     "ename": "ValueError",
     "evalue": "num_samples should be a positive integer value, but got num_samples=0",
     "output_type": "error",
     "traceback": [
      "\u001b[0;31m---------------------------------------------------------------------------\u001b[0m",
      "\u001b[0;31mValueError\u001b[0m                                Traceback (most recent call last)",
      "Cell \u001b[0;32mIn[5], line 11\u001b[0m\n\u001b[1;32m      8\u001b[0m init_dataframe \u001b[39m=\u001b[39m pd\u001b[39m.\u001b[39mDataFrame({\u001b[39m'\u001b[39m\u001b[39mx\u001b[39m\u001b[39m'\u001b[39m: new_files, \u001b[39m'\u001b[39m\u001b[39my\u001b[39m\u001b[39m'\u001b[39m: new_lables})\n\u001b[1;32m      9\u001b[0m dataset_pred \u001b[39m=\u001b[39m ImageNetDatasetPred(\n\u001b[1;32m     10\u001b[0m     init_dataframe, transform\u001b[39m=\u001b[39mget_test_transforms())\n\u001b[0;32m---> 11\u001b[0m dataloader_pred \u001b[39m=\u001b[39m torch\u001b[39m.\u001b[39;49mutils\u001b[39m.\u001b[39;49mdata\u001b[39m.\u001b[39;49mDataLoader(\n\u001b[1;32m     12\u001b[0m     dataset_pred, batch_size\u001b[39m=\u001b[39;49m\u001b[39m64\u001b[39;49m, shuffle\u001b[39m=\u001b[39;49m\u001b[39mTrue\u001b[39;49;00m, num_workers\u001b[39m=\u001b[39;49mNUM_WORKERS)\n",
      "File \u001b[0;32m~/AvanpostHackathon-1/.venv/lib/python3.10/site-packages/torch/utils/data/dataloader.py:344\u001b[0m, in \u001b[0;36mDataLoader.__init__\u001b[0;34m(self, dataset, batch_size, shuffle, sampler, batch_sampler, num_workers, collate_fn, pin_memory, drop_last, timeout, worker_init_fn, multiprocessing_context, generator, prefetch_factor, persistent_workers, pin_memory_device)\u001b[0m\n\u001b[1;32m    342\u001b[0m \u001b[39melse\u001b[39;00m:  \u001b[39m# map-style\u001b[39;00m\n\u001b[1;32m    343\u001b[0m     \u001b[39mif\u001b[39;00m shuffle:\n\u001b[0;32m--> 344\u001b[0m         sampler \u001b[39m=\u001b[39m RandomSampler(dataset, generator\u001b[39m=\u001b[39;49mgenerator)  \u001b[39m# type: ignore[arg-type]\u001b[39;00m\n\u001b[1;32m    345\u001b[0m     \u001b[39melse\u001b[39;00m:\n\u001b[1;32m    346\u001b[0m         sampler \u001b[39m=\u001b[39m SequentialSampler(dataset)  \u001b[39m# type: ignore[arg-type]\u001b[39;00m\n",
      "File \u001b[0;32m~/AvanpostHackathon-1/.venv/lib/python3.10/site-packages/torch/utils/data/sampler.py:107\u001b[0m, in \u001b[0;36mRandomSampler.__init__\u001b[0;34m(self, data_source, replacement, num_samples, generator)\u001b[0m\n\u001b[1;32m    103\u001b[0m     \u001b[39mraise\u001b[39;00m \u001b[39mTypeError\u001b[39;00m(\u001b[39m\"\u001b[39m\u001b[39mreplacement should be a boolean value, but got \u001b[39m\u001b[39m\"\u001b[39m\n\u001b[1;32m    104\u001b[0m                     \u001b[39m\"\u001b[39m\u001b[39mreplacement=\u001b[39m\u001b[39m{}\u001b[39;00m\u001b[39m\"\u001b[39m\u001b[39m.\u001b[39mformat(\u001b[39mself\u001b[39m\u001b[39m.\u001b[39mreplacement))\n\u001b[1;32m    106\u001b[0m \u001b[39mif\u001b[39;00m \u001b[39mnot\u001b[39;00m \u001b[39misinstance\u001b[39m(\u001b[39mself\u001b[39m\u001b[39m.\u001b[39mnum_samples, \u001b[39mint\u001b[39m) \u001b[39mor\u001b[39;00m \u001b[39mself\u001b[39m\u001b[39m.\u001b[39mnum_samples \u001b[39m<\u001b[39m\u001b[39m=\u001b[39m \u001b[39m0\u001b[39m:\n\u001b[0;32m--> 107\u001b[0m     \u001b[39mraise\u001b[39;00m \u001b[39mValueError\u001b[39;00m(\u001b[39m\"\u001b[39m\u001b[39mnum_samples should be a positive integer \u001b[39m\u001b[39m\"\u001b[39m\n\u001b[1;32m    108\u001b[0m                      \u001b[39m\"\u001b[39m\u001b[39mvalue, but got num_samples=\u001b[39m\u001b[39m{}\u001b[39;00m\u001b[39m\"\u001b[39m\u001b[39m.\u001b[39mformat(\u001b[39mself\u001b[39m\u001b[39m.\u001b[39mnum_samples))\n",
      "\u001b[0;31mValueError\u001b[0m: num_samples should be a positive integer value, but got num_samples=0"
     ]
    }
   ],
   "source": [
    "import pandas as pd\n",
    "import torch\n",
    "from dataset_working import get_all_files, ImageNetDatasetPred, get_test_transforms\n",
    "data_dir =\"/home/danya-sakharov/AvanpostHackathon-1/ml/palnes\"\n",
    "NUM_WORKERS = 1\n",
    "new_files, _ = get_all_files(data_dir=data_dir)\n",
    "new_lables = 0 * len(new_files)\n",
    "init_dataframe = pd.DataFrame({'x': new_files, 'y': new_lables})\n",
    "dataset_pred = ImageNetDatasetPred(\n",
    "    init_dataframe, transform=get_test_transforms())\n",
    "dataloader_pred = torch.utils.data.DataLoader(\n",
    "    dataset_pred, batch_size=64, shuffle=True, num_workers=NUM_WORKERS)\n"
   ]
  },
  {
   "cell_type": "code",
   "execution_count": 6,
   "metadata": {},
   "outputs": [
    {
     "data": {
      "text/plain": [
       "[]"
      ]
     },
     "execution_count": 6,
     "metadata": {},
     "output_type": "execute_result"
    }
   ],
   "source": [
    "new_files"
   ]
  },
  {
   "cell_type": "code",
   "execution_count": 1,
   "metadata": {},
   "outputs": [
    {
     "name": "stderr",
     "output_type": "stream",
     "text": [
      "/home/danya-sakharov/AvanpostHackathon-1/.venv/lib/python3.10/site-packages/tqdm/auto.py:22: TqdmWarning: IProgress not found. Please update jupyter and ipywidgets. See https://ipywidgets.readthedocs.io/en/stable/user_install.html\n",
      "  from .autonotebook import tqdm as notebook_tqdm\n"
     ]
    }
   ],
   "source": [
    "from finetuner import predict_samples\n",
    "classes = {'trucks':0, 'minibus':1, 'ski':2, 'dump_trucks':3, 'bicycles':4, 'snowboard':5, 'tractor':6, 'trains':7, 'gazon':8, 'horses':9, 'planes':10}\n",
    "d = predict_samples(list(classes.keys()), \"model_fine.pth\", \"/home/danya-sakharov/AvanpostHackathon-1/ml/planes\")"
   ]
  }
 ],
 "metadata": {
  "kernelspec": {
   "display_name": "Python 3.10.6 ('.venv': venv)",
   "language": "python",
   "name": "python3"
  },
  "language_info": {
   "codemirror_mode": {
    "name": "ipython",
    "version": 3
   },
   "file_extension": ".py",
   "mimetype": "text/x-python",
   "name": "python",
   "nbconvert_exporter": "python",
   "pygments_lexer": "ipython3",
   "version": "3.10.6"
  },
  "orig_nbformat": 4,
  "vscode": {
   "interpreter": {
    "hash": "c4cf603aabf6a7c9a888579814f62a3b34b5ffe0da601729648c1a8d129f1bcb"
   }
  }
 },
 "nbformat": 4,
 "nbformat_minor": 2
}
